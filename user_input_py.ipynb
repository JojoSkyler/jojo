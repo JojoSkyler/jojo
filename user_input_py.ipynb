{
  "nbformat": 4,
  "nbformat_minor": 0,
  "metadata": {
    "colab": {
      "provenance": [],
      "authorship_tag": "ABX9TyMzpZMJpxoim3hWJeAXHb0e",
      "include_colab_link": true
    },
    "kernelspec": {
      "name": "python3",
      "display_name": "Python 3"
    },
    "language_info": {
      "name": "python"
    }
  },
  "cells": [
    {
      "cell_type": "markdown",
      "metadata": {
        "id": "view-in-github",
        "colab_type": "text"
      },
      "source": [
        "<a href=\"https://colab.research.google.com/github/JojoSkyler/jojo/blob/master/user_input_py.ipynb\" target=\"_parent\"><img src=\"https://colab.research.google.com/assets/colab-badge.svg\" alt=\"Open In Colab\"/></a>"
      ]
    },
    {
      "cell_type": "code",
      "execution_count": 3,
      "metadata": {
        "colab": {
          "base_uri": "https://localhost:8080/"
        },
        "id": "zXBk4zgfRVmt",
        "outputId": "20927822-fddb-427a-e35c-2a1e3978b3e6"
      },
      "outputs": [
        {
          "output_type": "stream",
          "name": "stdout",
          "text": [
            "Please enter your nameJoan\n",
            "Please enter your age18\n",
            "Please enter your locationNai\n",
            "Hello Joan , you are 18 years old and live in Nai.\n"
          ]
        }
      ],
      "source": [
        "Name=input(\"Please enter your name\")\n",
        "Age=input(\"Please enter your age\")\n",
        "Location=input(\"Please enter your location\")\n",
        "print(f\"Hello {Name} , you are {Age} years old and live in {Location}.\")\n",
        "\n"
      ]
    }
  ]
}